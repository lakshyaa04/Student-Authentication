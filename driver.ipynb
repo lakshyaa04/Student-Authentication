{
 "cells": [
  {
   "cell_type": "code",
   "execution_count": 1,
   "id": "6d69ad6f",
   "metadata": {},
   "outputs": [
    {
     "name": "stdout",
     "output_type": "stream",
     "text": [
      "Requirement already satisfied: opencv-python in c:\\users\\lakshya\\anaconda3\\lib\\site-packages (4.7.0.68)\n",
      "Requirement already satisfied: numpy>=1.17.0 in c:\\users\\lakshya\\anaconda3\\lib\\site-packages (from opencv-python) (1.20.1)\n"
     ]
    }
   ],
   "source": [
    "!pip install opencv-python"
   ]
  },
  {
   "cell_type": "code",
   "execution_count": 2,
   "id": "8e68346e",
   "metadata": {},
   "outputs": [
    {
     "name": "stdout",
     "output_type": "stream",
     "text": [
      "Requirement already satisfied: keras in c:\\users\\lakshya\\anaconda3\\lib\\site-packages (2.11.0)\n"
     ]
    }
   ],
   "source": [
    "!pip install keras"
   ]
  },
  {
   "cell_type": "code",
   "execution_count": 3,
   "id": "bd8a1a11",
   "metadata": {},
   "outputs": [
    {
     "name": "stdout",
     "output_type": "stream",
     "text": [
      "Requirement already satisfied: deepface in c:\\users\\lakshya\\anaconda3\\lib\\site-packages (0.0.79)\n",
      "Requirement already satisfied: numpy>=1.14.0 in c:\\users\\lakshya\\anaconda3\\lib\\site-packages (from deepface) (1.20.1)\n",
      "Requirement already satisfied: gunicorn>=20.1.0 in c:\\users\\lakshya\\anaconda3\\lib\\site-packages (from deepface) (20.1.0)\n",
      "Requirement already satisfied: Flask>=1.1.2 in c:\\users\\lakshya\\anaconda3\\lib\\site-packages (from deepface) (1.1.2)\n",
      "Requirement already satisfied: tensorflow>=1.9.0 in c:\\users\\lakshya\\anaconda3\\lib\\site-packages (from deepface) (2.11.0)\n",
      "Requirement already satisfied: opencv-python>=4.5.5.64 in c:\\users\\lakshya\\anaconda3\\lib\\site-packages (from deepface) (4.7.0.68)\n",
      "Requirement already satisfied: Pillow>=5.2.0 in c:\\users\\lakshya\\anaconda3\\lib\\site-packages (from deepface) (8.2.0)\n",
      "Requirement already satisfied: tqdm>=4.30.0 in c:\\users\\lakshya\\anaconda3\\lib\\site-packages (from deepface) (4.59.0)\n",
      "Requirement already satisfied: mtcnn>=0.1.0 in c:\\users\\lakshya\\anaconda3\\lib\\site-packages (from deepface) (0.1.1)\n",
      "Requirement already satisfied: retina-face>=0.0.1 in c:\\users\\lakshya\\anaconda3\\lib\\site-packages (from deepface) (0.0.13)\n",
      "Requirement already satisfied: pandas>=0.23.4 in c:\\users\\lakshya\\anaconda3\\lib\\site-packages (from deepface) (1.2.4)\n",
      "Requirement already satisfied: keras>=2.2.0 in c:\\users\\lakshya\\anaconda3\\lib\\site-packages (from deepface) (2.11.0)\n",
      "Requirement already satisfied: fire>=0.4.0 in c:\\users\\lakshya\\anaconda3\\lib\\site-packages (from deepface) (0.5.0)\n",
      "Requirement already satisfied: gdown>=3.10.1 in c:\\users\\lakshya\\anaconda3\\lib\\site-packages (from deepface) (4.6.4)\n",
      "Requirement already satisfied: termcolor in c:\\users\\lakshya\\anaconda3\\lib\\site-packages (from fire>=0.4.0->deepface) (2.2.0)\n",
      "Requirement already satisfied: six in c:\\users\\lakshya\\anaconda3\\lib\\site-packages (from fire>=0.4.0->deepface) (1.15.0)\n",
      "Requirement already satisfied: Jinja2>=2.10.1 in c:\\users\\lakshya\\anaconda3\\lib\\site-packages (from Flask>=1.1.2->deepface) (2.11.3)\n",
      "Requirement already satisfied: Werkzeug>=0.15 in c:\\users\\lakshya\\anaconda3\\lib\\site-packages (from Flask>=1.1.2->deepface) (1.0.1)\n",
      "Requirement already satisfied: click>=5.1 in c:\\users\\lakshya\\anaconda3\\lib\\site-packages (from Flask>=1.1.2->deepface) (7.1.2)\n",
      "Requirement already satisfied: itsdangerous>=0.24 in c:\\users\\lakshya\\anaconda3\\lib\\site-packages (from Flask>=1.1.2->deepface) (1.1.0)\n",
      "Requirement already satisfied: filelock in c:\\users\\lakshya\\anaconda3\\lib\\site-packages (from gdown>=3.10.1->deepface) (3.0.12)\n",
      "Requirement already satisfied: beautifulsoup4 in c:\\users\\lakshya\\anaconda3\\lib\\site-packages (from gdown>=3.10.1->deepface) (4.9.3)\n",
      "Requirement already satisfied: requests[socks] in c:\\users\\lakshya\\anaconda3\\lib\\site-packages (from gdown>=3.10.1->deepface) (2.25.1)\n",
      "Requirement already satisfied: setuptools>=3.0 in c:\\users\\lakshya\\anaconda3\\lib\\site-packages (from gunicorn>=20.1.0->deepface) (52.0.0.post20210125)\n",
      "Requirement already satisfied: MarkupSafe>=0.23 in c:\\users\\lakshya\\anaconda3\\lib\\site-packages (from Jinja2>=2.10.1->Flask>=1.1.2->deepface) (1.1.1)\n",
      "Requirement already satisfied: python-dateutil>=2.7.3 in c:\\users\\lakshya\\anaconda3\\lib\\site-packages (from pandas>=0.23.4->deepface) (2.8.1)\n",
      "Requirement already satisfied: pytz>=2017.3 in c:\\users\\lakshya\\anaconda3\\lib\\site-packages (from pandas>=0.23.4->deepface) (2021.1)\n",
      "Requirement already satisfied: tensorflow-intel==2.11.0 in c:\\users\\lakshya\\anaconda3\\lib\\site-packages (from tensorflow>=1.9.0->deepface) (2.11.0)\n",
      "Requirement already satisfied: typing-extensions>=3.6.6 in c:\\users\\lakshya\\anaconda3\\lib\\site-packages (from tensorflow-intel==2.11.0->tensorflow>=1.9.0->deepface) (3.7.4.3)\n",
      "Requirement already satisfied: astunparse>=1.6.0 in c:\\users\\lakshya\\anaconda3\\lib\\site-packages (from tensorflow-intel==2.11.0->tensorflow>=1.9.0->deepface) (1.6.3)\n",
      "Requirement already satisfied: tensorboard<2.12,>=2.11 in c:\\users\\lakshya\\anaconda3\\lib\\site-packages (from tensorflow-intel==2.11.0->tensorflow>=1.9.0->deepface) (2.11.2)\n",
      "Requirement already satisfied: opt-einsum>=2.3.2 in c:\\users\\lakshya\\anaconda3\\lib\\site-packages (from tensorflow-intel==2.11.0->tensorflow>=1.9.0->deepface) (3.3.0)\n",
      "Requirement already satisfied: protobuf<3.20,>=3.9.2 in c:\\users\\lakshya\\anaconda3\\lib\\site-packages (from tensorflow-intel==2.11.0->tensorflow>=1.9.0->deepface) (3.19.6)\n",
      "Requirement already satisfied: google-pasta>=0.1.1 in c:\\users\\lakshya\\anaconda3\\lib\\site-packages (from tensorflow-intel==2.11.0->tensorflow>=1.9.0->deepface) (0.2.0)\n",
      "Requirement already satisfied: grpcio<2.0,>=1.24.3 in c:\\users\\lakshya\\anaconda3\\lib\\site-packages (from tensorflow-intel==2.11.0->tensorflow>=1.9.0->deepface) (1.51.3)\n",
      "Requirement already satisfied: flatbuffers>=2.0 in c:\\users\\lakshya\\anaconda3\\lib\\site-packages (from tensorflow-intel==2.11.0->tensorflow>=1.9.0->deepface) (23.1.21)\n",
      "Requirement already satisfied: tensorflow-estimator<2.12,>=2.11.0 in c:\\users\\lakshya\\anaconda3\\lib\\site-packages (from tensorflow-intel==2.11.0->tensorflow>=1.9.0->deepface) (2.11.0)\n",
      "Requirement already satisfied: libclang>=13.0.0 in c:\\users\\lakshya\\anaconda3\\lib\\site-packages (from tensorflow-intel==2.11.0->tensorflow>=1.9.0->deepface) (15.0.6.1)\n",
      "Requirement already satisfied: h5py>=2.9.0 in c:\\users\\lakshya\\anaconda3\\lib\\site-packages (from tensorflow-intel==2.11.0->tensorflow>=1.9.0->deepface) (2.10.0)\n",
      "Requirement already satisfied: tensorflow-io-gcs-filesystem>=0.23.1 in c:\\users\\lakshya\\anaconda3\\lib\\site-packages (from tensorflow-intel==2.11.0->tensorflow>=1.9.0->deepface) (0.31.0)\n",
      "Requirement already satisfied: packaging in c:\\users\\lakshya\\anaconda3\\lib\\site-packages (from tensorflow-intel==2.11.0->tensorflow>=1.9.0->deepface) (23.0)\n",
      "Requirement already satisfied: absl-py>=1.0.0 in c:\\users\\lakshya\\anaconda3\\lib\\site-packages (from tensorflow-intel==2.11.0->tensorflow>=1.9.0->deepface) (1.4.0)\n",
      "Requirement already satisfied: gast<=0.4.0,>=0.2.1 in c:\\users\\lakshya\\anaconda3\\lib\\site-packages (from tensorflow-intel==2.11.0->tensorflow>=1.9.0->deepface) (0.4.0)\n",
      "Requirement already satisfied: wrapt>=1.11.0 in c:\\users\\lakshya\\anaconda3\\lib\\site-packages (from tensorflow-intel==2.11.0->tensorflow>=1.9.0->deepface) (1.12.1)\n",
      "Requirement already satisfied: wheel<1.0,>=0.23.0 in c:\\users\\lakshya\\anaconda3\\lib\\site-packages (from astunparse>=1.6.0->tensorflow-intel==2.11.0->tensorflow>=1.9.0->deepface) (0.36.2)\n",
      "Requirement already satisfied: google-auth<3,>=1.6.3 in c:\\users\\lakshya\\anaconda3\\lib\\site-packages (from tensorboard<2.12,>=2.11->tensorflow-intel==2.11.0->tensorflow>=1.9.0->deepface) (2.16.1)\n",
      "Requirement already satisfied: tensorboard-data-server<0.7.0,>=0.6.0 in c:\\users\\lakshya\\anaconda3\\lib\\site-packages (from tensorboard<2.12,>=2.11->tensorflow-intel==2.11.0->tensorflow>=1.9.0->deepface) (0.6.1)\n",
      "Requirement already satisfied: tensorboard-plugin-wit>=1.6.0 in c:\\users\\lakshya\\anaconda3\\lib\\site-packages (from tensorboard<2.12,>=2.11->tensorflow-intel==2.11.0->tensorflow>=1.9.0->deepface) (1.8.1)\n",
      "Requirement already satisfied: markdown>=2.6.8 in c:\\users\\lakshya\\anaconda3\\lib\\site-packages (from tensorboard<2.12,>=2.11->tensorflow-intel==2.11.0->tensorflow>=1.9.0->deepface) (3.4.1)\n",
      "Requirement already satisfied: google-auth-oauthlib<0.5,>=0.4.1 in c:\\users\\lakshya\\anaconda3\\lib\\site-packages (from tensorboard<2.12,>=2.11->tensorflow-intel==2.11.0->tensorflow>=1.9.0->deepface) (0.4.6)\n",
      "Requirement already satisfied: rsa<5,>=3.1.4 in c:\\users\\lakshya\\anaconda3\\lib\\site-packages (from google-auth<3,>=1.6.3->tensorboard<2.12,>=2.11->tensorflow-intel==2.11.0->tensorflow>=1.9.0->deepface) (4.9)\n",
      "Requirement already satisfied: cachetools<6.0,>=2.0.0 in c:\\users\\lakshya\\anaconda3\\lib\\site-packages (from google-auth<3,>=1.6.3->tensorboard<2.12,>=2.11->tensorflow-intel==2.11.0->tensorflow>=1.9.0->deepface) (5.3.0)\n",
      "Requirement already satisfied: pyasn1-modules>=0.2.1 in c:\\users\\lakshya\\anaconda3\\lib\\site-packages (from google-auth<3,>=1.6.3->tensorboard<2.12,>=2.11->tensorflow-intel==2.11.0->tensorflow>=1.9.0->deepface) (0.2.8)\n",
      "Requirement already satisfied: requests-oauthlib>=0.7.0 in c:\\users\\lakshya\\anaconda3\\lib\\site-packages (from google-auth-oauthlib<0.5,>=0.4.1->tensorboard<2.12,>=2.11->tensorflow-intel==2.11.0->tensorflow>=1.9.0->deepface) (1.3.1)\n",
      "Requirement already satisfied: importlib-metadata>=4.4 in c:\\users\\lakshya\\anaconda3\\lib\\site-packages (from markdown>=2.6.8->tensorboard<2.12,>=2.11->tensorflow-intel==2.11.0->tensorflow>=1.9.0->deepface) (6.0.0)\n",
      "Requirement already satisfied: zipp>=0.5 in c:\\users\\lakshya\\anaconda3\\lib\\site-packages (from importlib-metadata>=4.4->markdown>=2.6.8->tensorboard<2.12,>=2.11->tensorflow-intel==2.11.0->tensorflow>=1.9.0->deepface) (3.4.1)\n",
      "Requirement already satisfied: pyasn1<0.5.0,>=0.4.6 in c:\\users\\lakshya\\anaconda3\\lib\\site-packages (from pyasn1-modules>=0.2.1->google-auth<3,>=1.6.3->tensorboard<2.12,>=2.11->tensorflow-intel==2.11.0->tensorflow>=1.9.0->deepface) (0.4.8)\n",
      "Requirement already satisfied: idna<3,>=2.5 in c:\\users\\lakshya\\anaconda3\\lib\\site-packages (from requests[socks]->gdown>=3.10.1->deepface) (2.10)\n",
      "Requirement already satisfied: certifi>=2017.4.17 in c:\\users\\lakshya\\anaconda3\\lib\\site-packages (from requests[socks]->gdown>=3.10.1->deepface) (2020.12.5)\n",
      "Requirement already satisfied: urllib3<1.27,>=1.21.1 in c:\\users\\lakshya\\anaconda3\\lib\\site-packages (from requests[socks]->gdown>=3.10.1->deepface) (1.26.4)\n",
      "Requirement already satisfied: chardet<5,>=3.0.2 in c:\\users\\lakshya\\anaconda3\\lib\\site-packages (from requests[socks]->gdown>=3.10.1->deepface) (4.0.0)\n",
      "Requirement already satisfied: oauthlib>=3.0.0 in c:\\users\\lakshya\\anaconda3\\lib\\site-packages (from requests-oauthlib>=0.7.0->google-auth-oauthlib<0.5,>=0.4.1->tensorboard<2.12,>=2.11->tensorflow-intel==2.11.0->tensorflow>=1.9.0->deepface) (3.2.2)\n",
      "Requirement already satisfied: soupsieve>1.2 in c:\\users\\lakshya\\anaconda3\\lib\\site-packages (from beautifulsoup4->gdown>=3.10.1->deepface) (2.2.1)\n",
      "Requirement already satisfied: PySocks!=1.5.7,>=1.5.6 in c:\\users\\lakshya\\anaconda3\\lib\\site-packages (from requests[socks]->gdown>=3.10.1->deepface) (1.7.1)\n"
     ]
    }
   ],
   "source": [
    "!pip install deepface"
   ]
  },
  {
   "cell_type": "code",
   "execution_count": 4,
   "id": "ff70962c",
   "metadata": {},
   "outputs": [],
   "source": [
    "import numpy as np\n",
    "import pandas as pd\n",
    "import matplotlib.pyplot as plt\n",
    "import seaborn as sns\n",
    "import matplotlib.image as mpimg\n",
    "from deepface import DeepFace\n",
    "import random"
   ]
  },
  {
   "cell_type": "code",
   "execution_count": null,
   "id": "ff047cf1",
   "metadata": {
    "scrolled": true
   },
   "outputs": [
    {
     "name": "stdout",
     "output_type": "stream",
     "text": [
      " * Serving Flask app \"__main__\" (lazy loading)\n",
      " * Environment: production\n",
      "   WARNING: This is a development server. Do not use it in a production deployment.\n",
      "   Use a production WSGI server instead.\n",
      " * Debug mode: off\n"
     ]
    },
    {
     "name": "stderr",
     "output_type": "stream",
     "text": [
      " * Running on http://127.0.0.1:5000/ (Press CTRL+C to quit)\n"
     ]
    }
   ],
   "source": [
    "from flask import Flask,render_template,request,url_for,redirect,Response,session\n",
    "import cv2\n",
    "from deepface import DeepFace\n",
    "\n",
    "global aadharno,capture\n",
    "capture=0\n",
    "myapp = Flask(__name__)\n",
    "cam = cv2.VideoCapture(0)\n",
    "@myapp.route('/')\n",
    "def homepage():\n",
    "    return render_template(\"homepage.html\")\n",
    "\n",
    "@myapp.route('/',methods=['POST'])\n",
    "def store():\n",
    "    global aadharno,name,phone\n",
    "    aadharno = request.form.get('Aadhar')\n",
    "    name = request.form.get('Uname')\n",
    "    phone = request.form.get('phone')\n",
    "    session[\"aadharno\"] = aadharno\n",
    "    session[\"name\"] = name\n",
    "    session[\"phone\"] = phone\n",
    "    return redirect(url_for('camera'))\n",
    "    \n",
    "   \n",
    "@myapp.route('/camera')\n",
    "def camera():\n",
    "    return render_template('camera.html')\n",
    "\n",
    "\n",
    "def gen():\n",
    "    global capture\n",
    "    while True:\n",
    "        suc,frame = cam.read()\n",
    "        if suc:\n",
    "            if(capture):\n",
    "                capture=0\n",
    "                p='img.jpg'\n",
    "                cv2.imwrite(p,frame)\n",
    "            else:     \n",
    "                try:\n",
    "                    ret, buffer = cv2.imencode('.jpg', frame)\n",
    "                    frame = buffer.tobytes()\n",
    "                    yield (b'--frame\\r\\n'\n",
    "                       b'Content-Type: image/jpeg\\r\\n\\r\\n' + frame + b'\\r\\n')    \n",
    "                except Exception as e:\n",
    "                    pass\n",
    "            \n",
    "        else:\n",
    "            break\n",
    "            \n",
    "@myapp.route('/requests',methods=['POST'])\n",
    "def tasks():\n",
    "    if request.method == 'POST':\n",
    "        if request.form.get('capture') == 'capture':\n",
    "            global capture\n",
    "            capture=1\n",
    "            global aadharno,name,phone\n",
    "            if \"aadharno\" in session:\n",
    "                aadharno = session[\"aadharno\"]\n",
    "                if \"name\" in session:\n",
    "                    name = session[\"name\"]\n",
    "                if \"phone\" in session:\n",
    "                    phone = session[\"phone\"]\n",
    "                #print(aadharno)\n",
    "                try:\n",
    "                    aadhar_image = cv2.imread('static/data/' + aadharno + '.jpg')\n",
    "                    p = cv2.imread('img.jpg')\n",
    "                    result = DeepFace.verify(p,aadhar_image,model_name='Facenet',enforce_detection=False,\n",
    "                         distance_metric='euclidean_l2',detector_backend = 'retinaface')\n",
    "                    print(result)\n",
    "                    if result['verified']:\n",
    "                        return render_template('verified.html',n=name,p=phone,a=aadharno)\n",
    "                    else:\n",
    "                        return redirect('/failure')\n",
    "                except:\n",
    "                    return redirect('/failure')\n",
    "                \n",
    "    return render_template('camera.html')\n",
    "\n",
    "@myapp.route('/video')\n",
    "def video():\n",
    "    return Response(gen(),mimetype='multipart/x-mixed-replace; boundary=frame')\n",
    "\n",
    "@myapp.route('/success')\n",
    "def success():\n",
    "    return render_template('verified.html',n=name,p=phone)\n",
    "\n",
    "@myapp.route('/failure')\n",
    "def failure():\n",
    "    return render_template('notverified.html')\n",
    "\n",
    "\n",
    "\n",
    "if __name__==\"__main__\":\n",
    "    myapp.secret_key= 'super secret key'\n",
    "    myapp.config['SESSION_TYPE']='filesystem'\n",
    "    myapp.run()"
   ]
  },
  {
   "cell_type": "code",
   "execution_count": null,
   "id": "414a62af",
   "metadata": {},
   "outputs": [],
   "source": [
    "import ipywidgets as widgets\n",
    "import numpy as np\n",
    "import pandas as pd\n",
    "import matplotlib.pyplot as plt\n",
    "import seaborn as sns\n",
    "import matplotlib.image as mpimg\n",
    "from deepface import DeepFace\n",
    "import random\n",
    "import cv2 as cv\n",
    "def check():\n",
    "    video = cv.VideoCapture(0)\n",
    "    aadhar_no = input(\"Enter Aadhar Number:\")\n",
    "    \n",
    "    while True:\n",
    "        ret, image = video.read()\n",
    "    #c = plt.imread(\"sample2.jpg\")\n",
    "\n",
    "        aadhar_image = 'static/data/' + aadhar_no + '.jpg'\n",
    "\n",
    "        result = DeepFace.verify(image,aadhar_image,model_name=\"Facenet\",enforce_detection=False,\n",
    "                         distance_metric='euclidean_l2',detector_backend = 'retinaface')\n",
    "     \n",
    "        print(result['verified'])\n",
    "    #cv.imshow(\"Video\",cv.cvtColor(image,cv.COLOR_BGR2RGB))\n",
    "    \n",
    "    \n",
    "    \n",
    "        if cv.waitKey(1) and 0xFF == ord('q'):\n",
    "            break\n",
    "        \n",
    "    video.release()\n",
    "    cv.destroyAllWindows()\n",
    "    \n",
    "l = [random.randint(1,100) for i in range(10)]\n",
    "k = list(set(l))\n",
    "## Here i is time in minutes\n",
    "for i in range(1,100):\n",
    "    if i in k:\n",
    "        check()\n",
    "        print(i,\"Checked\")"
   ]
  },
  {
   "cell_type": "code",
   "execution_count": null,
   "id": "65c1ac16",
   "metadata": {},
   "outputs": [],
   "source": []
  }
 ],
 "metadata": {
  "kernelspec": {
   "display_name": "Python 3",
   "language": "python",
   "name": "python3"
  },
  "language_info": {
   "codemirror_mode": {
    "name": "ipython",
    "version": 3
   },
   "file_extension": ".py",
   "mimetype": "text/x-python",
   "name": "python",
   "nbconvert_exporter": "python",
   "pygments_lexer": "ipython3",
   "version": "3.8.8"
  }
 },
 "nbformat": 4,
 "nbformat_minor": 5
}
